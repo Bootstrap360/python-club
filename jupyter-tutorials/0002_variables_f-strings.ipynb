{
 "cells": [
  {
   "cell_type": "markdown",
   "metadata": {},
   "source": [
    "# Variables and F-Strings\r\n",
    "\r\n",
    "In this module, we'll be discussing a key concept to Python and coding in general."
   ]
  },
  {
   "cell_type": "markdown",
   "metadata": {},
   "source": [
    "To create a variable, you'll need 2 things, the name and the value.\r\n",
    "\r\n",
    "\r\n",
    "Variable names can start with any letter, however they cannot start with a number.\r\n",
    "\r\n",
    "The value should be placed after the name, with an equal sign in between."
   ]
  },
  {
   "cell_type": "code",
   "execution_count": 2,
   "metadata": {},
   "outputs": [
    {
     "name": "stdout",
     "output_type": "stream",
     "text": [
      "1\n"
     ]
    }
   ],
   "source": [
    "x = 1\r\n",
    "print (x)"
   ]
  },
  {
   "cell_type": "code",
   "execution_count": null,
   "metadata": {},
   "outputs": [],
   "source": [
    "Trusted\n",
    "Jupyter Server: local\n",
    "Python 3.7.2 32-bit: Not Started\n",
    "Variable names are also case-sensitive. Can't start with a number. Can have all characters and underscores\n",
    "\n",
    "[1]\n",
    "\n",
    "\n",
    "\n",
    "x = 1\n",
    "X = 2\n",
    "print(\"x =\", x)\n",
    "print(\"X =\", X)\n",
    "x = 1\n",
    "X = 2\n",
    "\n",
    "\n",
    "\n",
    "\n",
    "\n",
    "Math can also be done on variables (similar to 0001)\n",
    "\n",
    "Programming is different than math or algebra, set of instructions for a computer\n",
    "\n",
    "talk about BEDMAS, executing right side code then assigning to left\n",
    "\n",
    "[-]\n",
    "\n",
    "\n",
    "\n",
    "#TODO\n",
    "\n",
    "#examples of math\n",
    "Data Types: float, int, string\n",
    "\n",
    "[-]\n",
    "\n",
    "\n",
    "\n",
    "\n",
    "Can"
   ]
  },
  {
   "source": [],
   "cell_type": "markdown",
   "metadata": {}
  }
 ],
 "metadata": {
  "language_info": {
   "name": "python"
  },
  "orig_nbformat": 4
 },
 "nbformat": 4,
 "nbformat_minor": 2
}