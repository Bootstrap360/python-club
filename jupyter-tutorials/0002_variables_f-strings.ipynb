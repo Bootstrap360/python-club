{
 "cells": [
  {
   "cell_type": "markdown",
   "metadata": {},
   "source": [
    "# Variables and F-Strings\r\n",
    "\r\n",
    "In this module, we'll be discussing a key concept to Python and coding in general."
   ]
  },
  {
   "source": [
    "Variables are a staple concept in programming. They are used to represent things that don't have a fixed value or things that are unknown when the code is being written."
   ],
   "cell_type": "markdown",
   "metadata": {}
  },
  {
   "cell_type": "markdown",
   "metadata": {},
   "source": [
    "To create a variable, you'll need 2 things, the name and the value.\rr.\r\n",
    "\r\n",
    "The value should be placed after the name, with an equal sign in between."
   ]
  },
  {
   "cell_type": "code",
   "execution_count": 5,
   "metadata": {},
   "outputs": [
    {
     "output_type": "stream",
     "name": "stdout",
     "text": [
      "1\n"
     ]
    }
   ],
   "source": [
    "x = 1\n",
    "\n",
    "#Variables can be printed directly\r\n",
    "print (x)"
   ]
  },
  {
   "source": [
    "#Variable Names \n",
    "\n",
    "Naming variables have a few rules:\n",
    "    -They can consist of any arrangement of characters and underscores.\n",
    "    -They are case-sensitive.\n",
    "    -They can't start with a number."
   ],
   "cell_type": "markdown",
   "metadata": {}
  },
  {
   "cell_type": "code",
   "execution_count": 4,
   "metadata": {},
   "outputs": [
    {
     "output_type": "stream",
     "name": "stdout",
     "text": [
      "x_0 = 1\nX_0 = 2\n"
     ]
    }
   ],
   "source": [
    "x_0 = 1\n",
    "X_0 = 2\n",
    "print(\"x_0 =\", x_0)\n",
    "print(\"X_0 =\", X_0)"
   ]
  },
  {
   "source": [
    "# Variable Operations\n",
    "\n",
    "Variables can be manipulated to perform certain instructions for your code.\n",
    "\n",
    "Programming is different than math or algebra, set of instructions for a computer\n",
    "\n",
    "Math can also be done on variables (similar to 0001)\n",
    "\n",
    "\n",
    "\n",
    "talk about BEDMAS, executing right side code then assigning to left "
   ],
   "cell_type": "markdown",
   "metadata": {}
  },
  {
   "cell_type": "code",
   "execution_count": 7,
   "metadata": {},
   "outputs": [
    {
     "output_type": "stream",
     "name": "stdout",
     "text": [
      "2\n2\n"
     ]
    }
   ],
   "source": [
    "#TODO\n",
    "\n",
    "x = 1\n",
    "x = 2\n",
    "\n",
    "print (x)\n",
    "\n",
    "#examples of math\n",
    "\n",
    "y = 1\n",
    "y += 1\n",
    "\n",
    "print (y)"
   ]
  },
  {
   "source": [
    "Data Types: float, int, string"
   ],
   "cell_type": "markdown",
   "metadata": {}
  },
  {
   "source": [
    "F-Strings\n"
   ],
   "cell_type": "markdown",
   "metadata": {}
  }
 ],
 "metadata": {
  "language_info": {
   "name": "python",
   "version": "3.8.7"
  },
  "orig_nbformat": 4,
  "kernelspec": {
   "name": "python3",
   "display_name": "Python 3.8.7 64-bit"
  },
  "interpreter": {
   "hash": "a9f2c7a37321ba2ec7c4000bace82d091c36b565ee2cd5d7ca7d5777ede6f8f3"
  }
 },
 "nbformat": 4,
 "nbformat_minor": 2
}