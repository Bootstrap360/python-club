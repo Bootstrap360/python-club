{
 "cells": [
  {
   "cell_type": "markdown",
   "metadata": {},
   "source": [
    "# Variables and F-Strings\r\n",
    "\r\n",
    "In this module, we'll be discussing a key concept to Python and coding in general."
   ]
  },
  {
   "cell_type": "markdown",
   "metadata": {},
   "source": [
    "To create a variable, you'll need 2 things, the name and the value.\r\n",
    "\r\n",
    "\r\n",
    "Variable names can start with any letter, however they cannot start with a number.\r\n",
    "\r\n",
    "The value should be placed after the name, with an equal sign in between."
   ]
  },
  {
   "cell_type": "code",
   "execution_count": 2,
   "metadata": {},
   "outputs": [
    {
     "name": "stdout",
     "output_type": "stream",
     "text": [
      "1\n"
     ]
    }
   ],
   "source": [
    "x = 1\r\n",
    "print (x)"
   ]
  }
 ],
 "metadata": {
  "language_info": {
   "name": "python"
  },
  "orig_nbformat": 4
 },
 "nbformat": 4,
 "nbformat_minor": 2
}