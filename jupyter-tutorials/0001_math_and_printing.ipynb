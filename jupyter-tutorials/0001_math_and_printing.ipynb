{
    "cells": [
        {
            "cell_type": "markdown",
            "source": [
                "# Welcome to Python\n",
                "\n",
                "Python is a generic programming language that has many libraries to help you accomplish tasks in a wide range of fields including math, file and database manipulation, impage processing, web scraping, web hosting and even A.I.\n",
                "\n",
                "This tutorial starts at the very beginning and ..."
            ],
            "metadata": {}
        },
        {
            "cell_type": "markdown",
            "source": [
                "Python makes math easy, try running the cell below by clicking on the play button. The code inside the clode block below will be run and the result will be shown bellow."
            ],
            "metadata": {}
        },
        {
            "cell_type": "code",
            "execution_count": 4,
            "source": [
                "2 + 3"
            ],
            "outputs": [
                {
                    "output_type": "execute_result",
                    "data": {
                        "text/plain": [
                            "5"
                        ]
                    },
                    "metadata": {},
                    "execution_count": 4
                }
            ],
            "metadata": {}
        },
        {
            "cell_type": "markdown",
            "source": [
                "Python can do lots of different path operations. Try changing the code block by click the code block below. Ttest out some of your own math calculations by using the examples below:\n",
                "\n",
                "- add: `35 + 40`\n",
                "- subtract: `4 - 6`\n",
                "- devide: `10 / 3`\n",
                "- multiply: `5 * 10`\n",
                "- powers: `10 ** 2`, `3 ** 3`\n",
                "- remainder can be calculated using the \"modulous\": `27 % 10`"
            ],
            "metadata": {}
        },
        {
            "cell_type": "code",
            "execution_count": 5,
            "source": [
                "10 / 3"
            ],
            "outputs": [
                {
                    "output_type": "execute_result",
                    "data": {
                        "text/plain": [
                            "3.3333333333333335"
                        ]
                    },
                    "metadata": {},
                    "execution_count": 5
                }
            ],
            "metadata": {}
        },
        {
            "cell_type": "markdown",
            "source": [
                "## Strings\n",
                "\n",
                "Python is not limited to manipulating numbers, it can also manipulate text known as strings. A string surounded by the quotation character `\"` as shown below. Try changing the text to print out your name"
            ],
            "metadata": {}
        },
        {
            "cell_type": "code",
            "execution_count": 2,
            "source": [
                "\"This is a string. It contains text\""
            ],
            "outputs": [
                {
                    "output_type": "execute_result",
                    "data": {
                        "text/plain": [
                            "'This is a string. It contains text'"
                        ]
                    },
                    "metadata": {},
                    "execution_count": 2
                }
            ],
            "metadata": {}
        },
        {
            "cell_type": "markdown",
            "source": [
                "## Printing\n",
                "\n",
                "printing can be usefull ....."
            ],
            "metadata": {}
        },
        {
            "cell_type": "code",
            "execution_count": null,
            "source": [
                "print(\"Hello \")"
            ],
            "outputs": [],
            "metadata": {}
        },
        {
            "cell_type": "markdown",
            "source": [
                "// TODO: Add more examples of printing number and multiple lines\n",
                "\n",
                "print(\"4 + 5\", 4 + 5)"
            ],
            "metadata": {}
        },
        {
            "cell_type": "code",
            "execution_count": 4,
            "source": [
                "print(\"4 + 5 =\", 4 + 5)\n",
                "print(\"Hello my name is Tanya\")"
            ],
            "outputs": [
                {
                    "output_type": "stream",
                    "name": "stdout",
                    "text": [
                        "4 + 5 = 9\n",
                        "Hello my name is Tanya\n"
                    ]
                }
            ],
            "metadata": {}
        },
        {
            "cell_type": "markdown",
            "source": [
                "## F-Strings\n",
                "\n",
                "// How to use f\"this is {}\""
            ],
            "metadata": {}
        },
        {
            "cell_type": "markdown",
            "source": [],
            "metadata": {}
        }
    ],
    "metadata": {
        "orig_nbformat": 4,
        "language_info": {
            "name": "python",
            "version": "3.6.9",
            "mimetype": "text/x-python",
            "codemirror_mode": {
                "name": "ipython",
                "version": 3
            },
            "pygments_lexer": "ipython3",
            "nbconvert_exporter": "python",
            "file_extension": ".py"
        },
        "kernelspec": {
            "name": "python3",
            "display_name": "Python 3.6.9 64-bit"
        },
        "interpreter": {
            "hash": "767d51c1340bd893661ea55ea3124f6de3c7a262a8b4abca0554b478b1e2ff90"
        }
    },
    "nbformat": 4,
    "nbformat_minor": 2
}