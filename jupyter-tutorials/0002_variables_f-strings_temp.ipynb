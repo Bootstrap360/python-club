{
 "cells": [
  {
   "cell_type": "markdown",
   "metadata": {},
   "source": [
    "Variable names are also case-sensitive. Can't start with a number. Can have all characters and underscores"
   ]
  },
  {
   "cell_type": "code",
   "execution_count": 1,
   "metadata": {},
   "outputs": [
    {
     "name": "stdout",
     "output_type": "stream",
     "text": [
      "x = 1\n",
      "X = 2\n"
     ]
    }
   ],
   "source": [
    "x = 1\n",
    "X = 2\n",
    "print(\"x =\", x)\n",
    "print(\"X =\", X)"
   ]
  },
  {
   "cell_type": "markdown",
   "metadata": {},
   "source": [
    "Math can also be done on variables (similar to 0001)\n",
    "\n",
    "Programming is different than math or algebra, set of instructions for a computer\n",
    "\n",
    "talk about BEDMAS, executing right side code then assigning to left "
   ]
  },
  {
   "cell_type": "code",
   "execution_count": null,
   "metadata": {},
   "outputs": [],
   "source": [
    "#TODO\n",
    "\n",
    "#examples of math"
   ]
  },
  {
   "cell_type": "markdown",
   "metadata": {},
   "source": [
    "Data Types: float, int, string"
   ]
  }
 ],
 "metadata": {
  "kernelspec": {
   "display_name": "Python 3.7.2 32-bit",
   "name": "python372jvsc74a57bd0fc2a6dd566ce39ecd3e34957b0772c753e546ec5f9c4cd2323326ac6060c91db"
  },
  "language_info": {
   "codemirror_mode": {
    "name": "ipython",
    "version": 3
   },
   "file_extension": ".py",
   "mimetype": "text/x-python",
   "name": "python",
   "nbconvert_exporter": "python",
   "pygments_lexer": "ipython3",
   "version": "3.7.2"
  },
  "metadata": {
   "interpreter": {
    "hash": "fc2a6dd566ce39ecd3e34957b0772c753e546ec5f9c4cd2323326ac6060c91db"
   }
  },
  "orig_nbformat": 2
 },
 "nbformat": 4,
 "nbformat_minor": 2
}